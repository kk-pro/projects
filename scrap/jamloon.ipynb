{
 "cells": [
  {
   "cell_type": "code",
   "execution_count": 21,
   "metadata": {
    "tags": []
   },
   "outputs": [
    {
     "output_type": "execute_result",
     "data": {
      "text/plain": "'49.84'"
     },
     "metadata": {},
     "execution_count": 21
    }
   ],
   "source": [
    "import re\n",
    "import requests\n",
    "from bs4 import BeautifulSoup\n",
    "\n",
    "\n",
    "r=requests.get(\"https://jamalon.com/en/enbooks?___from_store=ar&p=1\", headers={'User-agent': 'Mozilla/5.0 (X11; Ubuntu; Linux x86_64; rv:61.0) Gecko/20100101 Firefox/61.0'})\n",
    "c=r.content\n",
    "soup=BeautifulSoup(c,\"html.parser\")\n",
    "all=soup.find_all(\"div\",{\"class\":\"col-sm-4 col-md-4 col-xs-12\"})\n",
    "name=all[0].find(\"div\",{\"class\":\"book-info text-center\"}).find(\"h4\").text.replace(\"</h4>\",\"\")\n",
    "price=all[0].find(\"span\",{\"class\":\"num\"}).text.replace(\"SR\",\"\")\n"
   ]
  },
  {
   "cell_type": "code",
   "execution_count": 38,
   "metadata": {
    "tags": []
   },
   "outputs": [
    {
     "output_type": "stream",
     "name": "stdout",
     "text": "Let's Learn English Picture Dictionary\n49.84\nCollins Arabic Phrasebook\n31.14\nAnswer Key for  Alif Baa: Introduction to Arabic Letters and Sounds\n21.84\n M-W Arabic-English Dictionary\n26.25\n Arabic Phrases For Dummies\n43.62\nThe 7 Habits of Highly Effective People(Miniature Edition) (Miniature Editions)\n33.53\nThe Teaberry Strangler: A Tea Shop Mystery\n43.62\nBleach\n43.62\n Pokemon Adventures Diamond & Pearl Platinum\n43.62\nThe 7 Habits of Highly Effective People(Miniature Edition) (Miniature Editions)\n33.53\n Arabic Phrases For Dummies\n43.62\n M-W Arabic-English Dictionary\n26.25\nAnswer Key for  Alif Baa: Introduction to Arabic Letters and Sounds\n21.84\nCollins Arabic Phrasebook\n31.14\n"
    }
   ],
   "source": [
    "base_url=\"https://jamalon.com/en/enbooks?___from_store=ar&p=\"\n",
    "\n",
    "for page in range(1,3):\n",
    "    r=requests.get(base_url+str(page), headers={'User-agent': 'Mozilla/5.0 (X11; Ubuntu; Linux x86_64; rv:61.0) Gecko/20100101 Firefox/61.0'})\n",
    "    #print(base_url+str(page))\n",
    "    c=r.content\n",
    "    soup=BeautifulSoup(c,\"html.parser\")\n",
    "    all=soup.find_all(\"div\",{\"class\":\"col-sm-4 col-md-4 col-xs-12\"})\n",
    "    for item in all:\n",
    "        try:\n",
    "            price=item.find(\"span\",{\"class\":\"num\"}).text.replace(\"SR\",\"\")\n",
    "            if float(price) < 50:\n",
    "                print(item.find(\"div\",{\"class\":\"book-info text-center\"}).find(\"h4\").text.replace(\"</h4>\",\"\"))\n",
    "                print(float(price))\n",
    "        except:\n",
    "            None"
   ]
  },
  {
   "cell_type": "code",
   "execution_count": null,
   "metadata": {},
   "outputs": [],
   "source": []
  }
 ],
 "metadata": {
  "kernelspec": {
   "display_name": "Python 3",
   "language": "python",
   "name": "python3"
  },
  "language_info": {
   "codemirror_mode": {
    "name": "ipython",
    "version": 3
   },
   "file_extension": ".py",
   "mimetype": "text/x-python",
   "name": "python",
   "nbconvert_exporter": "python",
   "pygments_lexer": "ipython3",
   "version": "3.7.6"
  }
 },
 "nbformat": 4,
 "nbformat_minor": 2
}