{
 "metadata": {
  "language_info": {
   "codemirror_mode": {
    "name": "ipython",
    "version": 3
   },
   "file_extension": ".py",
   "mimetype": "text/x-python",
   "name": "python",
   "nbconvert_exporter": "python",
   "pygments_lexer": "ipython3",
   "version": 3
  },
  "orig_nbformat": 2,
  "kernelspec": {
   "name": "python_defaultSpec_1595260537143",
   "display_name": "Python 3.7.6 64-bit ('base': conda)"
  }
 },
 "nbformat": 4,
 "nbformat_minor": 2,
 "cells": [
  {
   "cell_type": "code",
   "execution_count": 77,
   "metadata": {},
   "outputs": [],
   "source": [
    "import requests\n",
    "import bs4\n",
    "import re\n",
    "\n"
   ]
  },
  {
   "cell_type": "code",
   "execution_count": 78,
   "metadata": {
    "tags": []
   },
   "outputs": [
    {
     "output_type": "stream",
     "name": "stdout",
     "text": "$725,000\n0 Gateway\nRock Springs, WY 82901\n$452,900\n1003 Winchester Blvd.\nRock Springs, WY 82901\n4\n4\n$396,900\n600 Talladega\nRock Springs, WY 82901\n5\n3\n$389,900\n3239 Spearhead Way\nRock Springs, WY 82901\n4\n3\n$254,000\n522 Emerald Street\nRock Springs, WY 82901\n3\n3\n$252,900\n1302 Veteran's Drive\nRock Springs, WY 82901\n4\n2\n$210,000\n1021 Cypress Cir\nRock Springs, WY 82901\n4\n3\n$209,000\n913 Madison Dr\nRock Springs, WY 82901\n3\n2\n$199,900\n1344 Teton Street\nRock Springs, WY 82901\n3\n2\n$196,900\n4 Minnies Lane\nRock Springs, WY 82901\n3\n2\n"
    }
   ],
   "source": [
    "l=[]\n",
    "r=requests.get(\"http://www.pyclass.com/real-estate/rock-springs-wy/LCWYROCKSPRINGS/\", headers={'User-agent': 'Mozilla/5.0 (X11; Ubuntu; Linux x86_64; rv:61.0) Gecko/20100101 Firefox/61.0'})\n",
    "\n",
    "c=r.content\n",
    "soup=BeautifulSoup(c,\"html.parser\")\n",
    "all=soup.find_all(\"div\",{\"class\":\"propertyRow\"})\n",
    "\n",
    "all[0].find(\"h4\",{\"class\":\"propPrice\"}).text.replace(\"\\n\",\"\").replace(\" \",\"\")\n",
    "\n",
    "page_n=soup.find_all(\"a\",{\"class\":\"Page\"})[-1].text\n",
    "\n",
    "for item in all:\n",
    "    d={}\n",
    "    print(item.find(\"h4\",{\"class\",\"propPrice\"}).text.replace(\"\\n\",\"\").replace(\" \",\"\"))\n",
    "    print(item.find_all(\"span\",{\"class\":\"propAddressCollapse\"})[0].text)\n",
    "    print(item.find_all(\"span\",{\"class\":\"propAddressCollapse\"})[1].text)\n",
    "    try:\n",
    "        print(item.find(\"span\",{\"class\":\"infoBed\"}).find(\"b\").text)\n",
    "    except:\n",
    "        pass\n",
    "    try:\n",
    "        print(item.find(\"span\",{\"class\":\"infoValueFullBath\"}).find(\"b\").text)\n",
    "    except:\n",
    "        pass"
   ]
  },
  {
   "cell_type": "code",
   "execution_count": 90,
   "metadata": {
    "tags": []
   },
   "outputs": [],
   "source": [
    "l=[]\n",
    "base_url=\"http://www.pyclass.com/real-estate/rock-springs-wy/LCWYROCKSPRINGS/t=0&s=\"\n",
    "\n",
    "for page in range(0, int(page_n)*10,10):\n",
    "    r=requests.get(base_url+str(page)+\".html\", headers={'User-agent': 'Mozilla/5.0 (X11; Ubuntu; Linux x86_64; rv:61.0) Gecko/20100101 Firefox/61.0'})\n",
    "    c=r.content\n",
    "    soup=BeautifulSoup(c,\"html.parser\")\n",
    "    all=soup.find_all(\"div\",{\"class\":\"propertyRow\"})\n",
    "    for item in all:\n",
    "        d={}\n",
    "    \n",
    "        d[\"Adress\"]=item.find_all(\"span\",{\"class\":\"propAddressCollapse\"})[0].text\n",
    "        try:\n",
    "            d[\"Locality\"]=item.find_all(\"span\",{\"class\":\"propAddressCollapse\"})[1].text\n",
    "        except:\n",
    "            d[\"Locality\"]=None\n",
    "\n",
    "        d[\"Price\"]=item.find(\"h4\",{\"class\",\"propPrice\"}).text.replace(\"\\n\",\"\").replace(\" \",\"\")\n",
    "        try:\n",
    "            d[\"Bed\"]=item.find(\"span\",{\"class\":\"infoBed\"}).find(\"b\").text\n",
    "        except:\n",
    "            d[\"Bed\"]=None\n",
    "        try:\n",
    "            d[\"Bath\"]=item.find(\"span\",{\"class\":\"infoValueFullBath\"}).find(\"b\").text\n",
    "        except:\n",
    "            d[\"Bath\"]=None\n",
    "        l.append(d)    \n"
   ]
  },
  {
   "cell_type": "code",
   "execution_count": 91,
   "metadata": {},
   "outputs": [
    {
     "output_type": "execute_result",
     "data": {
      "text/plain": "[{'Adress': '0 Gateway',\n  'Locality': 'Rock Springs, WY 82901',\n  'Price': '$725,000',\n  'Bed': None,\n  'Bath': None},\n {'Adress': '1003 Winchester Blvd.',\n  'Locality': 'Rock Springs, WY 82901',\n  'Price': '$452,900',\n  'Bed': '4',\n  'Bath': '4'},\n {'Adress': '600 Talladega',\n  'Locality': 'Rock Springs, WY 82901',\n  'Price': '$396,900',\n  'Bed': '5',\n  'Bath': '3'},\n {'Adress': '3239 Spearhead Way',\n  'Locality': 'Rock Springs, WY 82901',\n  'Price': '$389,900',\n  'Bed': '4',\n  'Bath': '3'},\n {'Adress': '522 Emerald Street',\n  'Locality': 'Rock Springs, WY 82901',\n  'Price': '$254,000',\n  'Bed': '3',\n  'Bath': '3'},\n {'Adress': \"1302 Veteran's Drive\",\n  'Locality': 'Rock Springs, WY 82901',\n  'Price': '$252,900',\n  'Bed': '4',\n  'Bath': '2'},\n {'Adress': '1021 Cypress Cir',\n  'Locality': 'Rock Springs, WY 82901',\n  'Price': '$210,000',\n  'Bed': '4',\n  'Bath': '3'},\n {'Adress': '913 Madison Dr',\n  'Locality': 'Rock Springs, WY 82901',\n  'Price': '$209,000',\n  'Bed': '3',\n  'Bath': '2'},\n {'Adress': '1344 Teton Street',\n  'Locality': 'Rock Springs, WY 82901',\n  'Price': '$199,900',\n  'Bed': '3',\n  'Bath': '2'},\n {'Adress': '4 Minnies Lane',\n  'Locality': 'Rock Springs, WY 82901',\n  'Price': '$196,900',\n  'Bed': '3',\n  'Bath': '2'},\n {'Adress': '9339 Sd 26900',\n  'Locality': 'Rocksprings, TX 78880',\n  'Price': '$1,700,000',\n  'Bed': None,\n  'Bath': None},\n {'Adress': 'RR674P13 Hwy 377',\n  'Locality': 'Rocksprings, TX 78880',\n  'Price': '$1,100,000',\n  'Bed': None,\n  'Bath': None},\n {'Adress': '0 Hwy 41',\n  'Locality': 'Rocksprings, TX 78880',\n  'Price': '$1,080,000',\n  'Bed': None,\n  'Bath': None},\n {'Adress': '9339 Sd 26900',\n  'Locality': 'Rocksprings, TX 78880',\n  'Price': '$908,350',\n  'Bed': None,\n  'Bath': None},\n {'Adress': 'CR450 Hwy 377',\n  'Locality': 'Rocksprings, TX 78880',\n  'Price': '$905,000',\n  'Bed': None,\n  'Bath': None},\n {'Adress': 'Cr 240 Cr 240',\n  'Locality': 'Rocksprings, TX 78880',\n  'Price': '$695,000',\n  'Bed': None,\n  'Bath': None},\n {'Adress': 'RR674 Hwy 377',\n  'Locality': 'Rocksprings, TX 78880',\n  'Price': '$605,000',\n  'Bed': None,\n  'Bath': None},\n {'Adress': '9770a Sd 26900',\n  'Locality': 'Rocksprings, TX 78880',\n  'Price': '$559,805',\n  'Bed': None,\n  'Bath': None},\n {'Adress': 'Lot17 CR 2630',\n  'Locality': 'Rocksprings, TX 78880',\n  'Price': '$504,000',\n  'Bed': None,\n  'Bath': None},\n {'Adress': 'Tr12,16 CR 520',\n  'Locality': 'Rocksprings, TX 78880',\n  'Price': '$410,000',\n  'Bed': None,\n  'Bath': None},\n {'Adress': '32575 S Shadow Mountain Road',\n  'Locality': 'Black Canyon City, AZ 85324',\n  'Price': '$299,900',\n  'Bed': '3',\n  'Bath': '2'},\n {'Adress': '32750 S Shangrila Drive',\n  'Locality': 'Black Canyon City, AZ 85324',\n  'Price': '$167,500',\n  'Bed': '3',\n  'Bath': '2'},\n {'Adress': '0000 Black Canyon Highway',\n  'Locality': 'Black Canyon City, AZ 85324',\n  'Price': '$150,000',\n  'Bed': None,\n  'Bath': None},\n {'Adress': '34775 S CHOLLA Drive',\n  'Locality': 'Black Canyon City, AZ 85324',\n  'Price': '$129,500',\n  'Bed': '3',\n  'Bath': '2'},\n {'Adress': '33403 S. HA-WA-SI TERRACE',\n  'Locality': 'BLACK CANYON CITY, AZ 85324',\n  'Price': '$129,000',\n  'Bed': '4',\n  'Bath': '2'},\n {'Adress': '34263 S Bertha Street',\n  'Locality': 'Black Canyon City, AZ 85324',\n  'Price': '$80,000',\n  'Bed': '5',\n  'Bath': '2'},\n {'Adress': '33160 S Canyon Road',\n  'Locality': 'Black Canyon City, AZ 85324',\n  'Price': '$77,900',\n  'Bed': '3',\n  'Bath': '2'},\n {'Adress': '19421 E Todd Evans Road',\n  'Locality': 'Black Canyon City, AZ 85324',\n  'Price': '$70,500',\n  'Bed': '3',\n  'Bath': '2'},\n {'Adress': '18688 E AGUA Vista',\n  'Locality': 'Black Canyon City, AZ 85324',\n  'Price': '$70,000',\n  'Bed': None,\n  'Bath': None},\n {'Adress': '50600 N Old Black Canyon Road',\n  'Locality': 'Black Canyon City, AZ 85324',\n  'Price': '$67,500',\n  'Bed': None,\n  'Bath': None},\n {'Adress': '20101 E SQUAW VALLEY Road',\n  'Locality': 'Black Canyon City, AZ 85324',\n  'Price': '$54,900',\n  'Bed': None,\n  'Bath': None},\n {'Adress': '33259 S Canyon Road',\n  'Locality': 'Black Canyon City, AZ 85324',\n  'Price': '$45,600',\n  'Bed': '3',\n  'Bath': '1'},\n {'Adress': '34558 S ROADRUNNER RD',\n  'Locality': 'Black Canyon City, AZ 85324',\n  'Price': '$40,000',\n  'Bed': '2',\n  'Bath': '1'},\n {'Adress': '19260 E Scenic Loop Road',\n  'Locality': 'Black Canyon City, AZ 85324',\n  'Price': '$30,000',\n  'Bed': None,\n  'Bath': None},\n {'Adress': '19000 E MAREN Avenue',\n  'Locality': 'Black Canyon City, AZ 85324',\n  'Price': '$29,000',\n  'Bed': None,\n  'Bath': None},\n {'Adress': '19350 E SAGUARO Drive',\n  'Locality': 'Black Canyon City, AZ 85324',\n  'Price': '$28,995',\n  'Bed': None,\n  'Bath': None},\n {'Adress': '20650 E Amethyst Place',\n  'Locality': 'Black Canyon City, AZ 85324',\n  'Price': '$15,000',\n  'Bed': None,\n  'Bath': None}]"
     },
     "metadata": {},
     "execution_count": 91
    }
   ],
   "source": [
    "l"
   ]
  },
  {
   "cell_type": "code",
   "execution_count": 92,
   "metadata": {},
   "outputs": [],
   "source": [
    "import pandas\n",
    "df=pandas.DataFrame(l)"
   ]
  },
  {
   "cell_type": "code",
   "execution_count": 93,
   "metadata": {},
   "outputs": [
    {
     "output_type": "execute_result",
     "data": {
      "text/plain": "                           Adress                     Locality       Price  \\\n0                       0 Gateway       Rock Springs, WY 82901    $725,000   \n1           1003 Winchester Blvd.       Rock Springs, WY 82901    $452,900   \n2                   600 Talladega       Rock Springs, WY 82901    $396,900   \n3              3239 Spearhead Way       Rock Springs, WY 82901    $389,900   \n4              522 Emerald Street       Rock Springs, WY 82901    $254,000   \n5            1302 Veteran's Drive       Rock Springs, WY 82901    $252,900   \n6                1021 Cypress Cir       Rock Springs, WY 82901    $210,000   \n7                  913 Madison Dr       Rock Springs, WY 82901    $209,000   \n8               1344 Teton Street       Rock Springs, WY 82901    $199,900   \n9                  4 Minnies Lane       Rock Springs, WY 82901    $196,900   \n10                  9339 Sd 26900        Rocksprings, TX 78880  $1,700,000   \n11               RR674P13 Hwy 377        Rocksprings, TX 78880  $1,100,000   \n12                       0 Hwy 41        Rocksprings, TX 78880  $1,080,000   \n13                  9339 Sd 26900        Rocksprings, TX 78880    $908,350   \n14                  CR450 Hwy 377        Rocksprings, TX 78880    $905,000   \n15                  Cr 240 Cr 240        Rocksprings, TX 78880    $695,000   \n16                  RR674 Hwy 377        Rocksprings, TX 78880    $605,000   \n17                 9770a Sd 26900        Rocksprings, TX 78880    $559,805   \n18                  Lot17 CR 2630        Rocksprings, TX 78880    $504,000   \n19                 Tr12,16 CR 520        Rocksprings, TX 78880    $410,000   \n20   32575 S Shadow Mountain Road  Black Canyon City, AZ 85324    $299,900   \n21        32750 S Shangrila Drive  Black Canyon City, AZ 85324    $167,500   \n22      0000 Black Canyon Highway  Black Canyon City, AZ 85324    $150,000   \n23           34775 S CHOLLA Drive  Black Canyon City, AZ 85324    $129,500   \n24      33403 S. HA-WA-SI TERRACE  BLACK CANYON CITY, AZ 85324    $129,000   \n25          34263 S Bertha Street  Black Canyon City, AZ 85324     $80,000   \n26            33160 S Canyon Road  Black Canyon City, AZ 85324     $77,900   \n27        19421 E Todd Evans Road  Black Canyon City, AZ 85324     $70,500   \n28             18688 E AGUA Vista  Black Canyon City, AZ 85324     $70,000   \n29  50600 N Old Black Canyon Road  Black Canyon City, AZ 85324     $67,500   \n30      20101 E SQUAW VALLEY Road  Black Canyon City, AZ 85324     $54,900   \n31            33259 S Canyon Road  Black Canyon City, AZ 85324     $45,600   \n32          34558 S ROADRUNNER RD  Black Canyon City, AZ 85324     $40,000   \n33       19260 E Scenic Loop Road  Black Canyon City, AZ 85324     $30,000   \n34           19000 E MAREN Avenue  Black Canyon City, AZ 85324     $29,000   \n35          19350 E SAGUARO Drive  Black Canyon City, AZ 85324     $28,995   \n36         20650 E Amethyst Place  Black Canyon City, AZ 85324     $15,000   \n\n     Bed  Bath  \n0   None  None  \n1      4     4  \n2      5     3  \n3      4     3  \n4      3     3  \n5      4     2  \n6      4     3  \n7      3     2  \n8      3     2  \n9      3     2  \n10  None  None  \n11  None  None  \n12  None  None  \n13  None  None  \n14  None  None  \n15  None  None  \n16  None  None  \n17  None  None  \n18  None  None  \n19  None  None  \n20     3     2  \n21     3     2  \n22  None  None  \n23     3     2  \n24     4     2  \n25     5     2  \n26     3     2  \n27     3     2  \n28  None  None  \n29  None  None  \n30  None  None  \n31     3     1  \n32     2     1  \n33  None  None  \n34  None  None  \n35  None  None  \n36  None  None  ",
      "text/html": "<div>\n<style scoped>\n    .dataframe tbody tr th:only-of-type {\n        vertical-align: middle;\n    }\n\n    .dataframe tbody tr th {\n        vertical-align: top;\n    }\n\n    .dataframe thead th {\n        text-align: right;\n    }\n</style>\n<table border=\"1\" class=\"dataframe\">\n  <thead>\n    <tr style=\"text-align: right;\">\n      <th></th>\n      <th>Adress</th>\n      <th>Locality</th>\n      <th>Price</th>\n      <th>Bed</th>\n      <th>Bath</th>\n    </tr>\n  </thead>\n  <tbody>\n    <tr>\n      <th>0</th>\n      <td>0 Gateway</td>\n      <td>Rock Springs, WY 82901</td>\n      <td>$725,000</td>\n      <td>None</td>\n      <td>None</td>\n    </tr>\n    <tr>\n      <th>1</th>\n      <td>1003 Winchester Blvd.</td>\n      <td>Rock Springs, WY 82901</td>\n      <td>$452,900</td>\n      <td>4</td>\n      <td>4</td>\n    </tr>\n    <tr>\n      <th>2</th>\n      <td>600 Talladega</td>\n      <td>Rock Springs, WY 82901</td>\n      <td>$396,900</td>\n      <td>5</td>\n      <td>3</td>\n    </tr>\n    <tr>\n      <th>3</th>\n      <td>3239 Spearhead Way</td>\n      <td>Rock Springs, WY 82901</td>\n      <td>$389,900</td>\n      <td>4</td>\n      <td>3</td>\n    </tr>\n    <tr>\n      <th>4</th>\n      <td>522 Emerald Street</td>\n      <td>Rock Springs, WY 82901</td>\n      <td>$254,000</td>\n      <td>3</td>\n      <td>3</td>\n    </tr>\n    <tr>\n      <th>5</th>\n      <td>1302 Veteran's Drive</td>\n      <td>Rock Springs, WY 82901</td>\n      <td>$252,900</td>\n      <td>4</td>\n      <td>2</td>\n    </tr>\n    <tr>\n      <th>6</th>\n      <td>1021 Cypress Cir</td>\n      <td>Rock Springs, WY 82901</td>\n      <td>$210,000</td>\n      <td>4</td>\n      <td>3</td>\n    </tr>\n    <tr>\n      <th>7</th>\n      <td>913 Madison Dr</td>\n      <td>Rock Springs, WY 82901</td>\n      <td>$209,000</td>\n      <td>3</td>\n      <td>2</td>\n    </tr>\n    <tr>\n      <th>8</th>\n      <td>1344 Teton Street</td>\n      <td>Rock Springs, WY 82901</td>\n      <td>$199,900</td>\n      <td>3</td>\n      <td>2</td>\n    </tr>\n    <tr>\n      <th>9</th>\n      <td>4 Minnies Lane</td>\n      <td>Rock Springs, WY 82901</td>\n      <td>$196,900</td>\n      <td>3</td>\n      <td>2</td>\n    </tr>\n    <tr>\n      <th>10</th>\n      <td>9339 Sd 26900</td>\n      <td>Rocksprings, TX 78880</td>\n      <td>$1,700,000</td>\n      <td>None</td>\n      <td>None</td>\n    </tr>\n    <tr>\n      <th>11</th>\n      <td>RR674P13 Hwy 377</td>\n      <td>Rocksprings, TX 78880</td>\n      <td>$1,100,000</td>\n      <td>None</td>\n      <td>None</td>\n    </tr>\n    <tr>\n      <th>12</th>\n      <td>0 Hwy 41</td>\n      <td>Rocksprings, TX 78880</td>\n      <td>$1,080,000</td>\n      <td>None</td>\n      <td>None</td>\n    </tr>\n    <tr>\n      <th>13</th>\n      <td>9339 Sd 26900</td>\n      <td>Rocksprings, TX 78880</td>\n      <td>$908,350</td>\n      <td>None</td>\n      <td>None</td>\n    </tr>\n    <tr>\n      <th>14</th>\n      <td>CR450 Hwy 377</td>\n      <td>Rocksprings, TX 78880</td>\n      <td>$905,000</td>\n      <td>None</td>\n      <td>None</td>\n    </tr>\n    <tr>\n      <th>15</th>\n      <td>Cr 240 Cr 240</td>\n      <td>Rocksprings, TX 78880</td>\n      <td>$695,000</td>\n      <td>None</td>\n      <td>None</td>\n    </tr>\n    <tr>\n      <th>16</th>\n      <td>RR674 Hwy 377</td>\n      <td>Rocksprings, TX 78880</td>\n      <td>$605,000</td>\n      <td>None</td>\n      <td>None</td>\n    </tr>\n    <tr>\n      <th>17</th>\n      <td>9770a Sd 26900</td>\n      <td>Rocksprings, TX 78880</td>\n      <td>$559,805</td>\n      <td>None</td>\n      <td>None</td>\n    </tr>\n    <tr>\n      <th>18</th>\n      <td>Lot17 CR 2630</td>\n      <td>Rocksprings, TX 78880</td>\n      <td>$504,000</td>\n      <td>None</td>\n      <td>None</td>\n    </tr>\n    <tr>\n      <th>19</th>\n      <td>Tr12,16 CR 520</td>\n      <td>Rocksprings, TX 78880</td>\n      <td>$410,000</td>\n      <td>None</td>\n      <td>None</td>\n    </tr>\n    <tr>\n      <th>20</th>\n      <td>32575 S Shadow Mountain Road</td>\n      <td>Black Canyon City, AZ 85324</td>\n      <td>$299,900</td>\n      <td>3</td>\n      <td>2</td>\n    </tr>\n    <tr>\n      <th>21</th>\n      <td>32750 S Shangrila Drive</td>\n      <td>Black Canyon City, AZ 85324</td>\n      <td>$167,500</td>\n      <td>3</td>\n      <td>2</td>\n    </tr>\n    <tr>\n      <th>22</th>\n      <td>0000 Black Canyon Highway</td>\n      <td>Black Canyon City, AZ 85324</td>\n      <td>$150,000</td>\n      <td>None</td>\n      <td>None</td>\n    </tr>\n    <tr>\n      <th>23</th>\n      <td>34775 S CHOLLA Drive</td>\n      <td>Black Canyon City, AZ 85324</td>\n      <td>$129,500</td>\n      <td>3</td>\n      <td>2</td>\n    </tr>\n    <tr>\n      <th>24</th>\n      <td>33403 S. HA-WA-SI TERRACE</td>\n      <td>BLACK CANYON CITY, AZ 85324</td>\n      <td>$129,000</td>\n      <td>4</td>\n      <td>2</td>\n    </tr>\n    <tr>\n      <th>25</th>\n      <td>34263 S Bertha Street</td>\n      <td>Black Canyon City, AZ 85324</td>\n      <td>$80,000</td>\n      <td>5</td>\n      <td>2</td>\n    </tr>\n    <tr>\n      <th>26</th>\n      <td>33160 S Canyon Road</td>\n      <td>Black Canyon City, AZ 85324</td>\n      <td>$77,900</td>\n      <td>3</td>\n      <td>2</td>\n    </tr>\n    <tr>\n      <th>27</th>\n      <td>19421 E Todd Evans Road</td>\n      <td>Black Canyon City, AZ 85324</td>\n      <td>$70,500</td>\n      <td>3</td>\n      <td>2</td>\n    </tr>\n    <tr>\n      <th>28</th>\n      <td>18688 E AGUA Vista</td>\n      <td>Black Canyon City, AZ 85324</td>\n      <td>$70,000</td>\n      <td>None</td>\n      <td>None</td>\n    </tr>\n    <tr>\n      <th>29</th>\n      <td>50600 N Old Black Canyon Road</td>\n      <td>Black Canyon City, AZ 85324</td>\n      <td>$67,500</td>\n      <td>None</td>\n      <td>None</td>\n    </tr>\n    <tr>\n      <th>30</th>\n      <td>20101 E SQUAW VALLEY Road</td>\n      <td>Black Canyon City, AZ 85324</td>\n      <td>$54,900</td>\n      <td>None</td>\n      <td>None</td>\n    </tr>\n    <tr>\n      <th>31</th>\n      <td>33259 S Canyon Road</td>\n      <td>Black Canyon City, AZ 85324</td>\n      <td>$45,600</td>\n      <td>3</td>\n      <td>1</td>\n    </tr>\n    <tr>\n      <th>32</th>\n      <td>34558 S ROADRUNNER RD</td>\n      <td>Black Canyon City, AZ 85324</td>\n      <td>$40,000</td>\n      <td>2</td>\n      <td>1</td>\n    </tr>\n    <tr>\n      <th>33</th>\n      <td>19260 E Scenic Loop Road</td>\n      <td>Black Canyon City, AZ 85324</td>\n      <td>$30,000</td>\n      <td>None</td>\n      <td>None</td>\n    </tr>\n    <tr>\n      <th>34</th>\n      <td>19000 E MAREN Avenue</td>\n      <td>Black Canyon City, AZ 85324</td>\n      <td>$29,000</td>\n      <td>None</td>\n      <td>None</td>\n    </tr>\n    <tr>\n      <th>35</th>\n      <td>19350 E SAGUARO Drive</td>\n      <td>Black Canyon City, AZ 85324</td>\n      <td>$28,995</td>\n      <td>None</td>\n      <td>None</td>\n    </tr>\n    <tr>\n      <th>36</th>\n      <td>20650 E Amethyst Place</td>\n      <td>Black Canyon City, AZ 85324</td>\n      <td>$15,000</td>\n      <td>None</td>\n      <td>None</td>\n    </tr>\n  </tbody>\n</table>\n</div>"
     },
     "metadata": {},
     "execution_count": 93
    }
   ],
   "source": [
    "df"
   ]
  },
  {
   "cell_type": "code",
   "execution_count": 94,
   "metadata": {},
   "outputs": [],
   "source": [
    "df.to_csv(\"Output.csv\")"
   ]
  },
  {
   "cell_type": "code",
   "execution_count": null,
   "metadata": {},
   "outputs": [],
   "source": []
  }
 ]
}