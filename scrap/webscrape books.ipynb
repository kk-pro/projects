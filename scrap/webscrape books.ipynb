{
 "cells": [
  {
   "cell_type": "code",
   "execution_count": 1,
   "metadata": {},
   "outputs": [],
   "source": [
    "import requests\n",
    "import bs4"
   ]
  },
  {
   "cell_type": "code",
   "execution_count": 6,
   "metadata": {},
   "outputs": [],
   "source": [
    "url_basic = \"http://books.toscrape.com/catalogue/page-{}.html\""
   ]
  },
  {
   "cell_type": "code",
   "execution_count": 7,
   "metadata": {},
   "outputs": [
    {
     "data": {
      "text/plain": [
       "'http://books.toscrape.com/catalogue/page-2.html'"
      ]
     },
     "execution_count": 7,
     "metadata": {},
     "output_type": "execute_result"
    }
   ],
   "source": [
    "url_basic.format(2)"
   ]
  },
  {
   "cell_type": "code",
   "execution_count": 10,
   "metadata": {},
   "outputs": [],
   "source": [
    "test = requests.get(url_basic.format(2))"
   ]
  },
  {
   "cell_type": "code",
   "execution_count": 39,
   "metadata": {},
   "outputs": [],
   "source": [
    "#test.text"
   ]
  },
  {
   "cell_type": "code",
   "execution_count": 13,
   "metadata": {},
   "outputs": [],
   "source": [
    "soup = bs4.BeautifulSoup(test.text,'lxml')"
   ]
  },
  {
   "cell_type": "code",
   "execution_count": 24,
   "metadata": {},
   "outputs": [],
   "source": [
    "product = soup.select(\".product_pod\")"
   ]
  },
  {
   "cell_type": "code",
   "execution_count": 34,
   "metadata": {},
   "outputs": [],
   "source": [
    "example = product[0]"
   ]
  },
  {
   "cell_type": "code",
   "execution_count": 28,
   "metadata": {},
   "outputs": [
    {
     "data": {
      "text/plain": [
       "[<p class=\"star-rating One\">\n",
       " <i class=\"icon-star\"></i>\n",
       " <i class=\"icon-star\"></i>\n",
       " <i class=\"icon-star\"></i>\n",
       " <i class=\"icon-star\"></i>\n",
       " <i class=\"icon-star\"></i>\n",
       " </p>]"
      ]
     },
     "execution_count": 28,
     "metadata": {},
     "output_type": "execute_result"
    }
   ],
   "source": [
    "example.select(\".star-rating.One\")"
   ]
  },
  {
   "cell_type": "code",
   "execution_count": 32,
   "metadata": {},
   "outputs": [
    {
     "data": {
      "text/plain": [
       "'In Her Wake'"
      ]
     },
     "execution_count": 32,
     "metadata": {},
     "output_type": "execute_result"
    }
   ],
   "source": [
    "example.select('a')[1][\"title\"]"
   ]
  },
  {
   "cell_type": "code",
   "execution_count": 42,
   "metadata": {},
   "outputs": [],
   "source": [
    "one_star_books_title = []\n",
    "for n in range(1,51):\n",
    "    scrape_url = url_basic.format(n)\n",
    "    res = requests.get(scrape_url)\n",
    "    \n",
    "    soup = bs4.BeautifulSoup(res.text,'lxml')\n",
    "    books = soup.select(\".product_pod\")\n",
    "    for book in books:\n",
    "        if book.select(\".star-rating.One\") != []:\n",
    "            book_title = book.select('a')[1][\"title\"]\n",
    "            one_star_books_title.append(book_title)\n",
    "            "
   ]
  },
  {
   "cell_type": "code",
   "execution_count": 41,
   "metadata": {},
   "outputs": [
    {
     "data": {
      "text/plain": [
       "['Tipping the Velvet',\n",
       " 'Soumission',\n",
       " 'The Requiem Red',\n",
       " 'The Black Maria',\n",
       " 'Olio',\n",
       " 'Mesaerion: The Best Science Fiction Stories 1800-1849',\n",
       " 'In Her Wake',\n",
       " 'The Bear and the Piano',\n",
       " 'In a Dark, Dark Wood',\n",
       " 'When We Collided',\n",
       " 'Unbound: How Eight Technologies Made Us Human, Transformed Society, and Brought Our World to the Brink',\n",
       " 'Tsubasa: WoRLD CHRoNiCLE 2 (Tsubasa WoRLD CHRoNiCLE #2)',\n",
       " 'The Torch Is Passed: A Harding Family Story',\n",
       " 'The Secret of Dreadwillow Carse',\n",
       " 'The Pioneer Woman Cooks: Dinnertime: Comfort Classics, Freezer Food, 16-Minute Meals, and Other Delicious Ways to Solve Supper!',\n",
       " 'The Gutsy Girl: Escapades for Your Life of Epic Adventure',\n",
       " 'The Electric Pencil: Drawings from Inside State Hospital No. 3',\n",
       " 'The Age of Genius: The Seventeenth Century and the Birth of the Modern Mind',\n",
       " 'Pop Gun War, Volume 1: Gift',\n",
       " 'orange: The Complete Collection 1 (orange: The Complete Collection #1)',\n",
       " 'Online Marketing for Busy Authors: A Step-By-Step Guide',\n",
       " 'Layered: Baking, Building, and Styling Spectacular Cakes',\n",
       " 'How to Be Miserable: 40 Strategies You Already Use',\n",
       " 'Her Backup Boyfriend (The Sorensen Family #1)',\n",
       " 'Fifty Shades Darker (Fifty Shades #2)',\n",
       " 'Algorithms to Live By: The Computer Science of Human Decisions',\n",
       " 'A World of Flavor: Your Gluten Free Passport',\n",
       " 'A Murder in Time',\n",
       " 'A Court of Thorns and Roses (A Court of Thorns and Roses #1)',\n",
       " 'Thomas Jefferson and the Tripoli Pirates: The Forgotten War That Changed American History',\n",
       " 'Thirteen Reasons Why',\n",
       " 'The Wedding Dress',\n",
       " 'The Shadow Hero (The Shadow Hero)',\n",
       " 'The Project',\n",
       " \"The Matchmaker's Playbook (Wingmen Inc. #1)\",\n",
       " 'The Long Shadow of Small Ghosts: Murder and Memory in an American City',\n",
       " 'The House by the Lake',\n",
       " 'The Glittering Court (The Glittering Court #1)',\n",
       " 'The Genius of Birds',\n",
       " 'The Cookies & Cups Cookbook: 125+ sweet & savory recipes reminding you to Always Eat Dessert First',\n",
       " 'Secrets and Lace (Fatal Hearts #1)',\n",
       " 'Romero and Juliet: A Tragic Tale of Love and Zombies',\n",
       " 'Poses for Artists Volume 1 - Dynamic and Sitting Poses: An Essential Reference for Figure Drawing and the Human Form',\n",
       " 'Nightingale, Sing',\n",
       " 'Night Sky with Exit Wounds',\n",
       " 'Miss Peregrineâ\\x80\\x99s Home for Peculiar Children (Miss Peregrineâ\\x80\\x99s Peculiar Children #1)',\n",
       " 'Hollow City (Miss Peregrineâ\\x80\\x99s Peculiar Children #2)',\n",
       " 'Follow You Home',\n",
       " 'First Steps for New Christians (Print Edition)',\n",
       " 'Amid the Chaos',\n",
       " 'We Are Robin, Vol. 1: The Vigilante Business (We Are Robin #1)',\n",
       " 'The Rosie Project (Don Tillman #1)',\n",
       " 'The Lucifer Effect: Understanding How Good People Turn Evil',\n",
       " 'The Long Haul (Diary of a Wimpy Kid #9)',\n",
       " 'The Loney',\n",
       " 'The Dovekeepers',\n",
       " 'The Bad-Ass Librarians of Timbuktu: And Their Race to Save the Worldâ\\x80\\x99s Most Precious Manuscripts',\n",
       " 'The 14th Colony (Cotton Malone #11)',\n",
       " 'That Darkness (Gardiner and Renner #1)',\n",
       " 'Tastes Like Fear (DI Marnie Rome #3)',\n",
       " 'Swell: A Year of Waves',\n",
       " 'My Name Is Lucy Barton',\n",
       " 'My Kind of Crazy',\n",
       " 'Mr. Mercedes (Bill Hodges Trilogy #1)',\n",
       " 'Love Is a Mix Tape (Music #1)',\n",
       " \"It's All Easy: Healthy, Delicious Weeknight Meals in under 30 Minutes\",\n",
       " 'Island of Dragons (Unwanteds #7)',\n",
       " 'Hold Your Breath (Search and Rescue #1)',\n",
       " \"Don't Get Caught\",\n",
       " 'Daily Fantasy Sports',\n",
       " 'Clockwork Angel (The Infernal Devices #1)',\n",
       " 'City of Bones (The Mortal Instruments #1)',\n",
       " 'City of Ashes (The Mortal Instruments #2)',\n",
       " 'Barefoot Contessa Back to Basics',\n",
       " 'A Man Called Ove',\n",
       " 'A Brush of Wings (Angels Walking #3)',\n",
       " 'Searching for Meaning in Gailana',\n",
       " '13 Hours: The Inside Account of What Really Happened In Benghazi',\n",
       " 'Tipping Point for Planet Earth: How Close Are We to the Edge?',\n",
       " 'The Midnight Watch: A Novel of the Titanic and the Californian',\n",
       " 'The Golden Condom: And Other Essays on Love Lost and Found',\n",
       " 'Quench Your Own Thirst: Business Lessons Learned Over a Beer or Two',\n",
       " 'Hide Away (Eve Duncan #20)',\n",
       " \"Equal Is Unfair: America's Misguided Fight Against Income Inequality\",\n",
       " 'Can You Keep a Secret? (Fear Street Relaunch #4)',\n",
       " 'A la Mode: 120 Recipes in 60 Pairings: Pies, Tarts, Cakes, Crisps, and More Topped with Ice Cream, Gelato, Frozen Custard, and More',\n",
       " 'The Improbability of Love',\n",
       " 'Sleeping Giants (Themis Files #1)',\n",
       " 'M Train',\n",
       " 'Lies and Other Acts of Love',\n",
       " 'Lab Girl',\n",
       " 'The Shack',\n",
       " 'The Fabric of the Cosmos: Space, Time, and the Texture of Reality',\n",
       " 'The Alien Club',\n",
       " 'Nap-a-Roo',\n",
       " \"If I Gave You God's Phone Number....: Searching for Spirituality in America\",\n",
       " \"Don't Forget Steven\",\n",
       " 'Why Not Me?',\n",
       " 'The High Mountains of Portugal',\n",
       " 'The Grownup',\n",
       " \"The E-Myth Revisited: Why Most Small Businesses Don't Work and What to Do About It\",\n",
       " 'South of Sunshine',\n",
       " 'Proofs of God: Classical Arguments from Tertullian to Barth',\n",
       " 'Kierkegaard: A Christian Missionary to Christians',\n",
       " \"I'll Give You the Sun\",\n",
       " 'I Will Find You',\n",
       " \"Ender's Game (The Ender Quintet #1)\",\n",
       " 'Diary of a Citizen Scientist: Chasing Tiger Beetles and Other New Ways of Engaging the World',\n",
       " \"Toddlers Are A**holes: It's Not Your Fault\",\n",
       " \"The Year of Living Biblically: One Man's Humble Quest to Follow the Bible as Literally as Possible\",\n",
       " 'The Glass Castle',\n",
       " \"The Faith of Christopher Hitchens: The Restless Soul of the World's Most Notorious Atheist\",\n",
       " 'Rich Dad, Poor Dad',\n",
       " 'Playing from the Heart',\n",
       " 'Fruits Basket, Vol. 7 (Fruits Basket #7)',\n",
       " 'Blue Like Jazz: Nonreligious Thoughts on Christian Spirituality',\n",
       " 'The Invention of Wings',\n",
       " 'The Great Railway Bazaar',\n",
       " 'The Golden Compass (His Dark Materials #1)',\n",
       " 'The Girl You Left Behind (The Girl You Left Behind #1)',\n",
       " 'Musicophilia: Tales of Music and the Brain',\n",
       " 'Me Before You (Me Before You #1)',\n",
       " 'Two Summers',\n",
       " 'This Is Your Brain on Music: The Science of a Human Obsession',\n",
       " 'The Metamorphosis',\n",
       " 'The Fault in Our Stars',\n",
       " 'The Dream Thieves (The Raven Cycle #2)',\n",
       " 'Tell Me Three Things',\n",
       " 'Maybe Something Beautiful: How Art Transformed a Neighborhood',\n",
       " 'Harry Potter and the Deathly Hallows (Harry Potter #7)',\n",
       " 'Fruits Basket, Vol. 5 (Fruits Basket #5)',\n",
       " 'Foundation (Foundation (Publication Order) #1)',\n",
       " 'Fool Me Once',\n",
       " 'Find Her (Detective D.D. Warren #8)',\n",
       " 'Evicted: Poverty and Profit in the American City',\n",
       " 'Death Note, Vol. 5: Whiteout (Death Note #5)',\n",
       " 'Critique of Pure Reason',\n",
       " \"A Girl's Guide to Moving On (New Beginnings #2)\",\n",
       " 'Harry Potter and the Chamber of Secrets (Harry Potter #2)',\n",
       " 'God Is Not Great: How Religion Poisons Everything',\n",
       " 'Girl With a Pearl Earring',\n",
       " 'Dark Lover (Black Dagger Brotherhood #1)',\n",
       " 'Can You Keep a Secret?',\n",
       " 'A Walk to Remember',\n",
       " 'A History of God: The 4,000-Year Quest of Judaism, Christianity, and Islam',\n",
       " 'Zero History (Blue Ant #3)',\n",
       " 'World War Z: An Oral History of the Zombie War',\n",
       " \"Where'd You Go, Bernadette\",\n",
       " 'We Are All Completely Beside Ourselves',\n",
       " 'Unstuffed: Decluttering Your Home, Mind, and Soul',\n",
       " 'Under the Banner of Heaven: A Story of Violent Faith',\n",
       " \"Trespassing Across America: One Man's Epic, Never-Done-Before (and Sort of Illegal) Hike Across the Heartland\",\n",
       " 'Thinking, Fast and Slow',\n",
       " 'The Travelers',\n",
       " 'The Thing About Jellyfish',\n",
       " 'The Smitten Kitchen Cookbook',\n",
       " 'The Road to Little Dribbling: Adventures of an American in Britain (Notes From a Small Island #2)',\n",
       " \"The Restaurant at the End of the Universe (Hitchhiker's Guide to the Galaxy #2)\",\n",
       " 'The Rest Is Noise: Listening to the Twentieth Century',\n",
       " 'The Purest Hook (Second Circle Tattoos #3)',\n",
       " 'The Obsession',\n",
       " 'The Maze Runner (The Maze Runner #1)',\n",
       " 'The Infinities',\n",
       " 'The Guernsey Literary and Potato Peel Pie Society',\n",
       " 'The Giver (The Giver Quartet #1)',\n",
       " \"The Girl Who Kicked the Hornet's Nest (Millennium Trilogy #3)\",\n",
       " 'The Devil Wears Prada (The Devil Wears Prada #1)',\n",
       " \"The Cuckoo's Calling (Cormoran Strike #1)\",\n",
       " 'The Catcher in the Rye',\n",
       " 'The Case for Christ (Cases for Christianity)',\n",
       " 'The Art of Fielding',\n",
       " 'Spilled Milk: Based on a True Story',\n",
       " 'Something Blue (Darcy & Rachel #2)',\n",
       " \"Sarah's Key\",\n",
       " \"Quiet: The Power of Introverts in a World That Can't Stop Talking\",\n",
       " 'Persepolis: The Story of a Childhood (Persepolis #1-2)',\n",
       " 'Outliers: The Story of Success',\n",
       " 'Notes from a Small Island (Notes From a Small Island #1)',\n",
       " 'Night (The Night Trilogy #1)',\n",
       " 'Morning Star (Red Rising #3)',\n",
       " 'Miracles from Heaven: A Little Girl, Her Journey to Heaven, and Her Amazing Story of Healing',\n",
       " 'Letter to a Christian Nation',\n",
       " \"Let's Pretend This Never Happened: A Mostly True Memoir\",\n",
       " 'Lean In: Women, Work, and the Will to Lead',\n",
       " 'Jurassic Park (Jurassic Park #1)',\n",
       " \"It's Never Too Late to Begin Again: Discovering Creativity and Meaning at Midlife and Beyond\",\n",
       " \"I've Got Your Number\",\n",
       " 'House of Leaves',\n",
       " 'Grayson, Vol 3: Nemesis (Grayson #3)',\n",
       " 'Fellside',\n",
       " 'Eclipse (Twilight #3)',\n",
       " 'Dune (Dune #1)',\n",
       " 'Do Androids Dream of Electric Sheep? (Blade Runner #1)',\n",
       " 'David and Goliath: Underdogs, Misfits, and the Art of Battling Giants',\n",
       " 'Darkfever (Fever #1)',\n",
       " 'Counting Thyme',\n",
       " 'Cinder (The Lunar Chronicles #1)',\n",
       " 'Black Flags: The Rise of ISIS',\n",
       " 'Black Butler, Vol. 1 (Black Butler #1)',\n",
       " 'Big Little Lies',\n",
       " 'Are We Smart Enough to Know How Smart Animals Are?',\n",
       " '8 Keys to Mental Health Through Exercise',\n",
       " '#GIRLBOSS',\n",
       " \"The Sandman, Vol. 2: The Doll's House (The Sandman (volumes) #2)\",\n",
       " 'Sugar Rush (Offensive Line #2)',\n",
       " 'Run, Spot, Run: The Ethics of Keeping Pets',\n",
       " 'Girl Online On Tour (Girl Online #2)',\n",
       " 'Vampire Knight, Vol. 1 (Vampire Knight #1)',\n",
       " 'This One Moment (Pushing Limits #1)',\n",
       " 'The Selfish Gene',\n",
       " 'The Nicomachean Ethics',\n",
       " 'The Mirror & the Maze (The Wrath and the Dawn #1.5)',\n",
       " 'The Light of the Fireflies',\n",
       " 'The Iliad',\n",
       " 'The End of the Jesus Era (An Investigation #1)',\n",
       " 'Shatter Me (Shatter Me #1)',\n",
       " 'Sense and Sensibility',\n",
       " 'Saga, Volume 1 (Saga (Collected Editions) #1)',\n",
       " 'Paradise Lost (Paradise #1)',\n",
       " 'Origins (Alphas 0.5)',\n",
       " 'Matilda',\n",
       " \"Charity's Cross (Charles Towne Belles #4)\",\n",
       " \"Bridget Jones's Diary (Bridget Jones #1)\",\n",
       " 'Beyond Good and Evil',\n",
       " \"Alice in Wonderland (Alice's Adventures in Wonderland #1)\",\n",
       " \"1st to Die (Women's Murder Club #1)\"]"
      ]
     },
     "execution_count": 41,
     "metadata": {},
     "output_type": "execute_result"
    }
   ],
   "source": [
    "one_star_books_title"
   ]
  },
  {
   "cell_type": "code",
   "execution_count": null,
   "metadata": {},
   "outputs": [],
   "source": []
  }
 ],
 "metadata": {
  "kernelspec": {
   "display_name": "Python 3",
   "language": "python",
   "name": "python3"
  },
  "language_info": {
   "codemirror_mode": {
    "name": "ipython",
    "version": 3
   },
   "file_extension": ".py",
   "mimetype": "text/x-python",
   "name": "python",
   "nbconvert_exporter": "python",
   "pygments_lexer": "ipython3",
   "version": "3.7.6"
  }
 },
 "nbformat": 4,
 "nbformat_minor": 4
}
